{
  "nbformat": 4,
  "nbformat_minor": 0,
  "metadata": {
    "colab": {
      "provenance": []
    },
    "kernelspec": {
      "name": "python3",
      "display_name": "Python 3"
    },
    "language_info": {
      "name": "python"
    }
  },
  "cells": [
    {
      "cell_type": "markdown",
      "source": [
        "#Задача 1\n",
        "Написать функцию на вход которой подается строка, состоящая из латинских букв.\n",
        "Функция должна вернуть количество гласных букв (a, e, i, o, u) в этой строке. Написать тесты для кода"
      ],
      "metadata": {
        "id": "M-DGa20PaHnu"
      }
    },
    {
      "cell_type": "code",
      "source": [
        "def FindVowels(string):\n",
        "  vowels = [\"a\",\"e\",'i',\"o\",'u']\n",
        "  count = 0\n",
        "\n",
        "  for letter in string.lower():\n",
        "    if letter in vowels:\n",
        "      count+=1\n",
        "\n",
        "  return count\n",
        "\n",
        "def Test(string, answer):\n",
        "  result=FindVowels(string)\n",
        "\n",
        "  print(f\"string:{string}\")\n",
        "  print(f\"Result:{result} Answer:{answer}\")\n",
        "\n",
        "  if result == answer:\n",
        "    print(\"Test succsessful!\")\n",
        "  else:\n",
        "    print(\"Test failed!\")\n",
        "  print()\n",
        "\n",
        "Test(\"I\"*10, 10)\n",
        "Test(\"Another one bites the dust\",9)\n",
        "Test(\"AIOUEaioue\", 10)\n",
        "Test(\"I'm a gnome and u've been gnoooomed\",14)\n",
        "Test(\"There are eleven vowels here\", 11)"
      ],
      "metadata": {
        "id": "XvX8X_JJ6PCb",
        "colab": {
          "base_uri": "https://localhost:8080/"
        },
        "outputId": "7610bca1-24db-4f16-947f-8f20eed034ae"
      },
      "execution_count": 57,
      "outputs": [
        {
          "output_type": "stream",
          "name": "stdout",
          "text": [
            "string:IIIIIIIIII\n",
            "Result:10 Answer:10\n",
            "Test succsessful!\n",
            "\n",
            "string:Another one bites the dust\n",
            "Result:9 Answer:9\n",
            "Test succsessful!\n",
            "\n",
            "string:AIOUEaioue\n",
            "Result:10 Answer:10\n",
            "Test succsessful!\n",
            "\n",
            "string:I'm a gnome and u've been gnoooomed\n",
            "Result:14 Answer:14\n",
            "Test succsessful!\n",
            "\n",
            "string:There are eleven vowels here\n",
            "Result:11 Answer:11\n",
            "Test succsessful!\n",
            "\n"
          ]
        }
      ]
    },
    {
      "cell_type": "markdown",
      "source": [
        "# Задача 2\n",
        "Написать функцию на вход, которой подается строка. Функция должна вернуть true, если\n",
        "каждый символ в строке встречается только 1 раз, иначе должна вернуть false. Написать тесты для кода"
      ],
      "metadata": {
        "id": "t2ClV_Y0bbr6"
      }
    },
    {
      "cell_type": "code",
      "source": [
        "def CheckRepeats(string):\n",
        "  repeat=list()\n",
        "  for letter in (string): #без lower, т.к. заглавная и не заглавная буквы - разные символы\n",
        "    if letter not in repeat:\n",
        "      repeat.append(letter)\n",
        "    else:\n",
        "      return False\n",
        "  return True\n",
        "\n",
        "def Test(string, answer):\n",
        "  result=CheckRepeats(string)\n",
        "\n",
        "  print(f\"string:{string}\")\n",
        "  print(f\"Result:{result} Answer:{answer}\")\n",
        "\n",
        "  if result == answer:\n",
        "    print(\"Test succsessful!\")\n",
        "  else:\n",
        "    print(\"Test failed!\")\n",
        "  print()\n",
        "\n",
        "Test(\"Hello\", False)\n",
        "Test(\"HhelLo\", True)\n",
        "Test(\"!@#123#@!1\", False)"
      ],
      "metadata": {
        "id": "FppbECao6VIz",
        "colab": {
          "base_uri": "https://localhost:8080/"
        },
        "outputId": "b6287ac5-bf9e-459f-ce65-a3d5ff67c067"
      },
      "execution_count": 65,
      "outputs": [
        {
          "output_type": "stream",
          "name": "stdout",
          "text": [
            "string:Hello\n",
            "Result:False Answer:False\n",
            "Test succsessful!\n",
            "\n",
            "string:HhelLo\n",
            "Result:True Answer:True\n",
            "Test succsessful!\n",
            "\n",
            "string:!@#123#@!1\n",
            "Result:False Answer:False\n",
            "Test succsessful!\n",
            "\n"
          ]
        }
      ]
    },
    {
      "cell_type": "markdown",
      "source": [
        "# Задача 3\n",
        "Написать функцию, которая принимает положительное число и возвращает количество\n",
        "бит равных 1 в этом числе. Написать тесты для кода"
      ],
      "metadata": {
        "id": "udRiIK1cdt6E"
      }
    },
    {
      "cell_type": "code",
      "source": [
        "def ByteCount(number):\n",
        "  sum=0\n",
        "  for b in bin(number):\n",
        "    if b=='1':\n",
        "      sum+=1\n",
        "  return sum\n",
        "\n",
        "def Test(number, answer):\n",
        "  result=ByteCount(number)\n",
        "\n",
        "  print(f\"number:{number}, Bytes:{bin(number)}\")\n",
        "  print(f\"Result:{result} Answer:{answer}\")\n",
        "\n",
        "  if result == answer:\n",
        "    print(\"Test succsessful!\")\n",
        "  else:\n",
        "    print(\"Test failed!\")\n",
        "  print()\n",
        "\n",
        "Test(10, 2)\n",
        "Test(0,0)\n",
        "Test(42,3)"
      ],
      "metadata": {
        "id": "6tkfDJRz6dp_",
        "colab": {
          "base_uri": "https://localhost:8080/"
        },
        "outputId": "baee3819-46ec-4dd9-c9d9-c0b180a5828b"
      },
      "execution_count": 59,
      "outputs": [
        {
          "output_type": "stream",
          "name": "stdout",
          "text": [
            "number:10, Bytes:0b1010\n",
            "Result:2 Answer:2\n",
            "Test succsessful!\n",
            "\n",
            "number:0, Bytes:0b0\n",
            "Result:0 Answer:0\n",
            "Test succsessful!\n",
            "\n",
            "number:42, Bytes:0b101010\n",
            "Result:3 Answer:3\n",
            "Test succsessful!\n",
            "\n"
          ]
        }
      ]
    },
    {
      "cell_type": "markdown",
      "source": [
        "# Задача 4\n",
        "Написать функцию, которая принимает положительное число. Функция должна вернуть то,\n",
        "сколько раз необходимо перемножать цифры числа или результат перемножения, чтобы\n",
        "получилось число состоящее из одной цифры.\n",
        "Например, для входного числа:\n",
        "· 39 функция должна вернуть 3, так как 3*9=27 => 2*7=14 => 1*4=4\n",
        "· 4 функция должна вернуть 0, так как число уже состоит из одной цифры\n",
        "· 999 функция должна вернуть 4, так как 9*9*9=729 => 7*2*9=126 => 1*2*6=12 =>\n",
        "1*2=2. Написать тесты для кода"
      ],
      "metadata": {
        "id": "26dDUz-Ae17N"
      }
    },
    {
      "cell_type": "code",
      "source": [
        "def magic(n):\n",
        "  result = 0\n",
        "  while(n>9):\n",
        "    mult=1\n",
        "    for e in str(n):\n",
        "      mult *= int(e)\n",
        "    n = mult\n",
        "    result+=1\n",
        "  return result\n",
        "\n",
        "def Test(number, answer):\n",
        "  result=magic(number)\n",
        "\n",
        "  print(f\"number:{number}\")\n",
        "  print(f\"Result:{result} Answer:{answer}\")\n",
        "\n",
        "  if result == answer:\n",
        "    print(\"Test succsessful!\")\n",
        "  else:\n",
        "    print(\"Test failed!\")\n",
        "  print()\n",
        "\n",
        "Test(39,3)\n",
        "Test(4,0)\n",
        "Test(999,4)\n",
        "Test(2024,1)"
      ],
      "metadata": {
        "id": "BH1A_Mgi6i4G",
        "colab": {
          "base_uri": "https://localhost:8080/"
        },
        "outputId": "4d7aab14-8a7f-4ae6-b742-2921f937de19"
      },
      "execution_count": 60,
      "outputs": [
        {
          "output_type": "stream",
          "name": "stdout",
          "text": [
            "number:39\n",
            "Result:3 Answer:3\n",
            "Test succsessful!\n",
            "\n",
            "number:4\n",
            "Result:0 Answer:0\n",
            "Test succsessful!\n",
            "\n",
            "number:999\n",
            "Result:4 Answer:4\n",
            "Test succsessful!\n",
            "\n",
            "number:2024\n",
            "Result:1 Answer:1\n",
            "Test succsessful!\n",
            "\n"
          ]
        }
      ]
    },
    {
      "cell_type": "markdown",
      "source": [
        "# Задача 5\n",
        "Написать функцию, которая принимает два целочисленных вектора одинаковой длины и\n",
        "возвращает среднеквадратическое отклонение двух векторов. Написать тесты для кода"
      ],
      "metadata": {
        "id": "0nS-kIa8g8vd"
      }
    },
    {
      "cell_type": "code",
      "source": [
        "def mse(pred, true):\n",
        "  n = len(pred)\n",
        "  sum = 0\n",
        "\n",
        "  for i in range(n):\n",
        "    sum += (true[i] - pred[i])**2\n",
        "\n",
        "  return sum/n\n",
        "\n",
        "def std(pred, true):\n",
        "  return mse(pred,true)**0.5\n",
        "\n",
        "def Test(pred, true, answer):\n",
        "  result=std(pred,true)\n",
        "\n",
        "  print(f\"pred: {pred}\")\n",
        "  print(f\"true: {true}\")\n",
        "  print(f\"Result:{result} Answer:{answer}\")\n",
        "\n",
        "  if result == answer:\n",
        "    print(\"Test succsessful!\")\n",
        "  else:\n",
        "    print(\"Test failed!\")\n",
        "  print()\n",
        "\n",
        "Test([1,2,3,4,5], [2,3,4,5,6], 1.0)"
      ],
      "metadata": {
        "id": "8iphx4LM6xbx",
        "colab": {
          "base_uri": "https://localhost:8080/"
        },
        "outputId": "1a7bb8f5-9730-4571-ce15-9d248479370d"
      },
      "execution_count": 61,
      "outputs": [
        {
          "output_type": "stream",
          "name": "stdout",
          "text": [
            "pred: [1, 2, 3, 4, 5]\n",
            "true: [2, 3, 4, 5, 6]\n",
            "Result:1.0 Answer:1.0\n",
            "Test succsessful!\n",
            "\n"
          ]
        }
      ]
    },
    {
      "cell_type": "markdown",
      "source": [
        "# Задача 6\n",
        "Написать функцию, принимающая целое положительное число. Функция должна вернуть\n",
        "строку вида “(n1**p1)(n2**p2)…(nk**pk)” представляющая разложение числа на простые\n",
        "множители (если pi == 1, то выводить только ni).\n",
        "Например, для числа 86240 функция должна вернуть “(2**5)(5)(7**2)(11)”. Написать тесты для кода"
      ],
      "metadata": {
        "id": "vpIPKL439zkw"
      }
    },
    {
      "cell_type": "code",
      "source": [
        "def FindPrime(number):\n",
        "  result=str()\n",
        "  i=2\n",
        "  count = 0\n",
        "  while True:\n",
        "    if number%i==0:\n",
        "      count+=1\n",
        "      number //=i\n",
        "    else:\n",
        "      result+=f\"({i}**{count})\" if count>1 else f\"({i})\" if count==1 else \"\"\n",
        "      i+=1\n",
        "      count=0\n",
        "      if number == 1: break\n",
        "  return result\n",
        "\n",
        "def Test(number, answer):\n",
        "  result=FindPrime(number)\n",
        "\n",
        "  print(f\"number: {number}\")\n",
        "  print(f\"Result:{result} Answer:{answer}\")\n",
        "\n",
        "  if result == answer:\n",
        "    print(\"Test succsessful!\")\n",
        "  else:\n",
        "    print(\"Test failed!\")\n",
        "  print()\n",
        "\n",
        "Test(1, \"\")\n",
        "Test(86240,\"(2**5)(5)(7**2)(11)\")\n",
        "Test(2*3*5, \"(2)(3)(5)\")\n",
        "Test(2 * 5**8 * 19**3, \"(2)(5**8)(19**3)\")"
      ],
      "metadata": {
        "id": "pFebmcZk94Jw",
        "colab": {
          "base_uri": "https://localhost:8080/"
        },
        "outputId": "0db20ce3-bc8e-437c-f001-25db1164b353"
      },
      "execution_count": 62,
      "outputs": [
        {
          "output_type": "stream",
          "name": "stdout",
          "text": [
            "number: 1\n",
            "Result: Answer:\n",
            "Test succsessful!\n",
            "\n",
            "number: 86240\n",
            "Result:(2**5)(5)(7**2)(11) Answer:(2**5)(5)(7**2)(11)\n",
            "Test succsessful!\n",
            "\n",
            "number: 30\n",
            "Result:(2)(3)(5) Answer:(2)(3)(5)\n",
            "Test succsessful!\n",
            "\n",
            "number: 5358593750\n",
            "Result:(2)(5**8)(19**3) Answer:(2)(5**8)(19**3)\n",
            "Test succsessful!\n",
            "\n"
          ]
        }
      ]
    },
    {
      "cell_type": "markdown",
      "source": [
        "# Задача 7\n",
        "Написать функцию, принимающая целое число n, задающее количество кубиков. Функция\n",
        "должна определить, можно ли из данного кол-ва кубиков построить пирамиду, то есть\n",
        "можно ли представить число n как 1^2+2^2+3^2+…+k^2. Если можно, то функция должна\n",
        "вернуть k, иначе строку “It is impossible”. Написать тесты для кода"
      ],
      "metadata": {
        "id": "ps2s0BudX7A2"
      }
    },
    {
      "cell_type": "code",
      "source": [
        "def pyramid(number):\n",
        "    k=1\n",
        "    while True:\n",
        "      if number-k*k>0:\n",
        "        number-=k*k\n",
        "        k+=1\n",
        "      elif number-k*k==0:\n",
        "        return str(k)\n",
        "      else:\n",
        "        return \"It is impossible\"\n",
        "\n",
        "def Test(number, answer):\n",
        "  result=pyramid(number)\n",
        "\n",
        "  print(f\"number: {number}\")\n",
        "  print(f\"Result:{result} Answer:{answer}\")\n",
        "\n",
        "  if result == answer:\n",
        "    print(\"Test succsessful!\")\n",
        "  else:\n",
        "    print(\"Test failed!\")\n",
        "  print()\n",
        "\n",
        "Test(1,\"1\")\n",
        "Test(1+2*2+3*3, \"3\")\n",
        "Test(2*2+5*5,\"It is impossible\")\n",
        "Test(0,\"It is impossible\")\n",
        "Test(-150, \"It is impossible\")"
      ],
      "metadata": {
        "id": "3YPjEXxhX_YT",
        "colab": {
          "base_uri": "https://localhost:8080/"
        },
        "outputId": "5e28b0f9-0b2c-4cbe-94d4-19395d857be5"
      },
      "execution_count": 63,
      "outputs": [
        {
          "output_type": "stream",
          "name": "stdout",
          "text": [
            "number: 1\n",
            "Result:1 Answer:1\n",
            "Test succsessful!\n",
            "\n",
            "number: 14\n",
            "Result:3 Answer:3\n",
            "Test succsessful!\n",
            "\n",
            "number: 29\n",
            "Result:It is impossible Answer:It is impossible\n",
            "Test succsessful!\n",
            "\n",
            "number: 0\n",
            "Result:It is impossible Answer:It is impossible\n",
            "Test succsessful!\n",
            "\n",
            "number: -150\n",
            "Result:It is impossible Answer:It is impossible\n",
            "Test succsessful!\n",
            "\n"
          ]
        }
      ]
    },
    {
      "cell_type": "markdown",
      "source": [
        "# Задача 8\n",
        "Функция принимает на вход положительное число и определяет является ли оно сбалансированным, т.е. сумма цифр до средних равна сумме цифр после. Средними в случае нечетного числа цифр считать одну цифру, в случае четного - две средних. Написать тесты для кода"
      ],
      "metadata": {
        "id": "KeKgmIdAQMEJ"
      }
    },
    {
      "cell_type": "code",
      "source": [
        "def CheckBalance(number):\n",
        "  left = 0\n",
        "  right = 0\n",
        "  str_number = str(number)\n",
        "\n",
        "  k=1 if len(str_number)%2==0 else 0\n",
        "\n",
        "  for i in range(0, len(str_number)//2-k):\n",
        "          left += int(str_number[i])\n",
        "  for j in range(len(str_number)//2+1, len(str_number)):\n",
        "          right += int(str_number[j])\n",
        "\n",
        "  return left == right\n",
        "\n",
        "def Test(number, answer):\n",
        "  result=CheckBalance(number)\n",
        "\n",
        "  print(f\"number: {number}\")\n",
        "  print(f\"Result:{result} Answer:{answer}\")\n",
        "\n",
        "  if result == answer:\n",
        "    print(\"Test succsessful!\")\n",
        "  else:\n",
        "    print(\"Test failed!\")\n",
        "  print()\n",
        "\n",
        "Test(12398321, True)\n",
        "Test(12398456, False)\n",
        "Test(1239321, True)\n",
        "Test(1239456, False)"
      ],
      "metadata": {
        "id": "gMAAqtqlQrZt",
        "colab": {
          "base_uri": "https://localhost:8080/"
        },
        "outputId": "607f5178-95e1-4495-ca9e-92e7d48e9cd7"
      },
      "execution_count": 64,
      "outputs": [
        {
          "output_type": "stream",
          "name": "stdout",
          "text": [
            "number: 12398321\n",
            "Result:True Answer:True\n",
            "Test succsessful!\n",
            "\n",
            "number: 12398456\n",
            "Result:False Answer:False\n",
            "Test succsessful!\n",
            "\n",
            "number: 1239321\n",
            "Result:True Answer:True\n",
            "Test succsessful!\n",
            "\n",
            "number: 1239456\n",
            "Result:False Answer:False\n",
            "Test succsessful!\n",
            "\n"
          ]
        }
      ]
    }
  ]
}